{
  "nbformat": 4,
  "nbformat_minor": 0,
  "metadata": {
    "colab": {
      "name": "DollyZoom_chun3.ipynb",
      "provenance": [],
      "collapsed_sections": []
    },
    "kernelspec": {
      "name": "python3",
      "display_name": "Python 3"
    }
  },
  "cells": [
    {
      "cell_type": "code",
      "metadata": {
        "id": "tHCM_7FCvrHB",
        "colab_type": "code",
        "colab": {}
      },
      "source": [
        "import numpy as np"
      ],
      "execution_count": 2,
      "outputs": []
    },
    {
      "cell_type": "code",
      "metadata": {
        "id": "xT6kMNTVK53J",
        "colab_type": "code",
        "colab": {}
      },
      "source": [
        "def compute_f_pos(d1_ref, d2_ref, H1, H2, ratio, f_ref):\n",
        "    \"\"\" \n",
        "    Compute camera focal length and camera position to achieve certain ratio\n",
        "    between objects\n",
        "\n",
        "    Input:\n",
        "    - d1_ref: distance of the first object\n",
        "    - d2_ref: distance of the second object\n",
        "    - H1: height of the first object in physical world\n",
        "    - H2: height of the second object in physical world\n",
        "    - ratio: ratio between two objects (h1/h2)\n",
        "    - f_ref: 1 by 1 double, previous camera focal length\n",
        "    Output:\n",
        "    - f: 1 by 1, camera focal length\n",
        "    - pos: 1 by 1, camera position\n",
        "    \"\"\"\n",
        "    pos = (H1 * d2_ref - ratio * H2 * d1_ref) / ( H1 - ratio * H2)\n",
        "\n",
        "    f = f_ref * (d1_ref - pos) / d1_ref\n",
        "    \n",
        "    return f, pos"
      ],
      "execution_count": 3,
      "outputs": []
    },
    {
      "cell_type": "code",
      "metadata": {
        "id": "_mt3_cwBEHwS",
        "colab_type": "code",
        "colab": {
          "base_uri": "https://localhost:8080/",
          "height": 34
        },
        "outputId": "5ab2f147-7480-4a3d-c0dd-a299d22f23c3"
      },
      "source": [
        "d1_ref = 5 \n",
        "d2_ref = 2 \n",
        "H1 = 2 \n",
        "H2 = 1 \n",
        "ratio = H2 / H1 \n",
        "f_ref = 400 \n",
        "f, pos = compute_f_pos(d1_ref, d2_ref, H1, H2, ratio, f_ref)\n",
        "assert np.isclose(f, 320), \"Your computation of the focal length is off. Hint: h1/h2 != H1/H2\"\n",
        "assert np.isclose(pos, 1), \"Your computation of the position is off. Hint: h1/h2 != H1/H2\"\n",
        "\n",
        "print(\"additional test passed\")"
      ],
      "execution_count": 4,
      "outputs": [
        {
          "output_type": "stream",
          "text": [
            "additional test passed\n"
          ],
          "name": "stdout"
        }
      ]
    },
    {
      "cell_type": "code",
      "metadata": {
        "id": "RXh81YFjvF-y",
        "colab_type": "code",
        "colab": {
          "base_uri": "https://localhost:8080/",
          "height": 34
        },
        "outputId": "33930c96-a81e-4d7c-986b-f162bf528e93"
      },
      "source": [
        "'''\n",
        "Test\n",
        "'''\n",
        "import numpy as np\n",
        "d1_ref = 4\n",
        "d2_ref = 20\n",
        "H1 = 4\n",
        "H2 = 6\n",
        "ratio = 2\n",
        "f_ref = 400\n",
        "f, pos = compute_f_pos( d1_ref, d2_ref, H1, H2, ratio, f_ref )\n",
        "\n",
        "assert type(f) == float, \"You gave wrong output type for focal length\"\n",
        "assert type(pos) == float, \"You gave wrong output type for position\"    \n",
        "assert np.isclose(f, 800), \"Your computation of the focal length is off. Hint: h1/h2 != H1/H2\"\n",
        "assert np.isclose(pos, -4), \"Your computation of the position is off. Hint: h1/h2 != H1/H2\"\n",
        "print('test passed')"
      ],
      "execution_count": 5,
      "outputs": [
        {
          "output_type": "stream",
          "text": [
            "test passed\n"
          ],
          "name": "stdout"
        }
      ]
    },
    {
      "cell_type": "code",
      "metadata": {
        "id": "D47c1oBjNCtE",
        "colab_type": "code",
        "colab": {}
      },
      "source": [
        "def compute_focal_length( d_ref, f_ref, pos ):\n",
        "    \"\"\"\n",
        "    compute camera focal length using given camera position\n",
        "\n",
        "    Input:\n",
        "    - d_ref: 1 by 1 double, distance of the object whose size remains constant\n",
        "    - f_ref: 1 by 1 double, previous camera focal length\n",
        "    - pos: 1 by n, each element represent camera center position on the z axis.\n",
        "    Output:\n",
        "    - f: 1 by n, camera focal length\n",
        "    \"\"\"\n",
        "    f = (d_ref - pos) / d_ref * f_ref \n",
        "    \n",
        "    return f"
      ],
      "execution_count": 6,
      "outputs": []
    },
    {
      "cell_type": "code",
      "metadata": {
        "id": "NdnzrKkdvXPM",
        "colab_type": "code",
        "colab": {
          "base_uri": "https://localhost:8080/",
          "height": 34
        },
        "outputId": "1d62b7f7-551d-42d1-a825-8ff067d43a76"
      },
      "source": [
        "'''\n",
        "Test\n",
        "'''\n",
        "import numpy as np\n",
        "d_ref = 4\n",
        "f_ref = 400\n",
        "pos = -5\n",
        "f = compute_focal_length(d_ref, f_ref, pos)\n",
        "assert type(f) == float, \"You gave wrong output size.\"    \n",
        "assert np.isclose(f, 900), \"Your computation of the focal length is off.\"\n",
        "print('test passed')"
      ],
      "execution_count": 7,
      "outputs": [
        {
          "output_type": "stream",
          "text": [
            "test passed\n"
          ],
          "name": "stdout"
        }
      ]
    },
    {
      "cell_type": "code",
      "metadata": {
        "id": "jPZ76Zu1EZyS",
        "colab_type": "code",
        "colab": {
          "base_uri": "https://localhost:8080/",
          "height": 34
        },
        "outputId": "9ab5b4b5-9719-482c-ecc3-3df80dcbd373"
      },
      "source": [
        "f = compute_focal_length(100, 400, 10)\n",
        "assert np.isclose(f, 360), \"Your computation of the focal length is off.\"\n",
        "print(\"additional test\")"
      ],
      "execution_count": 8,
      "outputs": [
        {
          "output_type": "stream",
          "text": [
            "additional test\n"
          ],
          "name": "stdout"
        }
      ]
    }
  ]
}